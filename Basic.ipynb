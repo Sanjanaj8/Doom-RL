{
 "cells": [
  {
   "cell_type": "markdown",
   "id": "e13020d4-c8c0-4f22-9cc6-b9e2f1e5393d",
   "metadata": {
    "tags": []
   },
   "source": [
    "# Set Up VizDoom"
   ]
  },
  {
   "cell_type": "code",
   "execution_count": null,
   "id": "70cce386-c158-4949-9a81-2adfed9d0987",
   "metadata": {
    "tags": []
   },
   "outputs": [],
   "source": [
    "#!pip install vizdoom\n",
    "#!pip install vizdoom[gym] \n",
    "#!pip install stable-baselines3[extra]\n",
    "#!pip install setuptools==65.5.0 \"wheel<0.40.0\""
   ]
  },
  {
   "cell_type": "code",
   "execution_count": null,
   "id": "ab00b67c-17bd-40de-b71b-2bbe593a33e3",
   "metadata": {},
   "outputs": [],
   "source": [
    "#!cd github & git clone https://github.com/Farama-Foundation/ViZDoom\n",
    "#!cd github & git clone https://github.com/nicknochnack/DoomReinforcementLearning\n",
    "# Second link for basic100k.zip folder"
   ]
  },
  {
   "cell_type": "code",
   "execution_count": 1,
   "id": "35a313c8-bc7c-43f4-9010-ce59e764f63a",
   "metadata": {
    "tags": []
   },
   "outputs": [],
   "source": [
    "# Importing os for file management\n",
    "import os\n",
    "# Importing vizdoom for game environment\n",
    "import vizdoom as vzd\n",
    "\n",
    "# Importing random for action sampling\n",
    "import random\n",
    "# Importing time for sleeping\n",
    "import time\n",
    "# Importing numpy for operations of matrices\n",
    "import numpy as np"
   ]
  },
  {
   "cell_type": "code",
   "execution_count": 2,
   "id": "8ab3028b-4543-4bd7-b51b-4c46cdd00c4b",
   "metadata": {
    "tags": []
   },
   "outputs": [],
   "source": [
    "# Creating the game instance\n",
    "game = vzd.DoomGame()\n",
    "# Loading the configuration of a scenario,\n",
    "# Replace \"basic.cfg\" with any other scenario file\n",
    "game.load_config(r\"C:\\Users\\admin\\Desktop\\AI ML\\Doom\\ViZDoom\\scenarios\\basic.cfg\")\n",
    "#game.set_doom_scenario_path(\"basic.wad\")\n",
    "# To start the game\n",
    "game.init()"
   ]
  },
  {
   "cell_type": "code",
   "execution_count": 3,
   "id": "ac36af16-54f5-4b96-97c2-d6deb46d1fab",
   "metadata": {},
   "outputs": [
    {
     "data": {
      "text/plain": [
       "array([[1, 0, 0],\n",
       "       [0, 1, 0],\n",
       "       [0, 0, 1]], dtype=uint8)"
      ]
     },
     "execution_count": 3,
     "metadata": {},
     "output_type": "execute_result"
    }
   ],
   "source": [
    "# identity() returns an identity array \n",
    "# Set of actions that can be taken in the game env\n",
    "actions = np.identity(3, dtype = np.uint8)\n",
    "actions"
   ]
  },
  {
   "cell_type": "markdown",
   "id": "0e54cb2c-9589-453d-8af9-d48f6db88cbb",
   "metadata": {},
   "source": [
    "+3 actions\n",
    "- Move left\n",
    "- Move right\n",
    "- Attack"
   ]
  },
  {
   "cell_type": "code",
   "execution_count": 4,
   "id": "70f20800-ea5b-4021-86d6-1f326f56a474",
   "metadata": {},
   "outputs": [
    {
     "data": {
      "text/plain": [
       "array([0, 1, 0], dtype=uint8)"
      ]
     },
     "execution_count": 4,
     "metadata": {},
     "output_type": "execute_result"
    }
   ],
   "source": [
    "# Randomly chooses the actions to carry out\n",
    "# Gets replaced by PPO model\n",
    "random.choice(actions)"
   ]
  },
  {
   "cell_type": "code",
   "execution_count": null,
   "id": "80136970-6e17-46fc-89b2-565686593b49",
   "metadata": {
    "scrolled": true,
    "tags": []
   },
   "outputs": [],
   "source": [
    "# Playing 10 games\n",
    "episodes = 10\n",
    "\n",
    "# Looping through 10 episodes\n",
    "for episdoe in range(episodes):\n",
    "    \n",
    "    # Basically restarting the game\n",
    "    # If new_episode() PRODUCES AN ERROR -> RESTART THE KERNEL\n",
    "    game.new_episode()\n",
    "    \n",
    "    # While loop runs when the game isnt finished\n",
    "    while not game.is_episode_finished(): \n",
    "        # Get the game state \n",
    "        state = game.get_state()\n",
    "        \n",
    "        # Get the game's current image\n",
    "        img = state.screen_buffer\n",
    "        \n",
    "        # Get the game variables - ammo for the basic config set up\n",
    "        # ammo = 50\n",
    "        info = state.game_variables\n",
    "        \n",
    "        # Executes a particular action\n",
    "        # Here 4 represents the time between an action and end result\n",
    "        # Skips the next 4 frames after executing an action\n",
    "        # If the monster gets killed then 106 points won, else the game is over after the shot is missed\n",
    "        reward = game.make_action(random.choice(actions),4)\n",
    "        \n",
    "        # Print reward \n",
    "        print('reward:', reward) \n",
    "        \n",
    "        # Sleep timer\n",
    "        time.sleep(0.02)\n",
    "        \n",
    "    # Getting total reward\n",
    "    print('Result:', game.get_total_reward())\n",
    "    time.sleep(2)"
   ]
  },
  {
   "cell_type": "code",
   "execution_count": null,
   "id": "ea13e49d-7053-48d6-b8f6-170e69c9268f",
   "metadata": {},
   "outputs": [],
   "source": [
    "# To close the game\n",
    "game.close()"
   ]
  },
  {
   "cell_type": "markdown",
   "id": "46c3056e-64ba-40e1-a9ca-a7108fdfbb86",
   "metadata": {
    "tags": []
   },
   "source": [
    "# Set up OpenAI Gym Environment for Reinforcement Learning"
   ]
  },
  {
   "cell_type": "code",
   "execution_count": 5,
   "id": "af56cd3f-b77d-482b-a367-78d92584e41e",
   "metadata": {},
   "outputs": [],
   "source": [
    "# Importing Env base class from OpenAI Gym\n",
    "from gym import Env\n",
    "\n",
    "# Import gym spaces \n",
    "# Discrete is a collection of actions that the agent can take, where only one can be chose at each step. There is no variability to an action in this scenario.\n",
    "# Box defines a space in which the agent can act, and allows for variable forward distances in the gridworld scenario.\n",
    "from gym.spaces import Discrete, Box\n",
    "\n",
    "# Importing OpenCV for grayscaling observations to process the doom environment faster\n",
    "import cv2"
   ]
  },
  {
   "cell_type": "code",
   "execution_count": 6,
   "id": "9cfbe98d",
   "metadata": {},
   "outputs": [],
   "source": [
    "# Create Vizdoom OpenAI Gym Environment\n",
    "class VizDoomGym(Env): \n",
    "    \n",
    "    # Function called when env has been started\n",
    "    def __init__(self, render=False):\n",
    "         # Inherit from Env\n",
    "        # GAME SET UP\n",
    "        # The __init__() method is a special method in Python classes that are called when an object is created.\n",
    "        # The super() function is often used with the __init__() method to initialize the attributes of the parent class.\n",
    "        super().__init__()\n",
    "        self.game = vzd.DoomGame()\n",
    "        self.game.load_config(r\"C:\\Users\\admin\\Desktop\\AI ML\\Doom\\ViZDoom\\scenarios\\basic.cfg\")\n",
    "        self.game.init()\n",
    "        \n",
    "        # Render frame logic\n",
    "        # Helps in training the model faster\n",
    "        if render == False: \n",
    "            # Doesnt let the window to pop up, runs in background\n",
    "            self.game.set_window_visible(False)\n",
    "        else:\n",
    "            self.game.set_window_visible(True)\n",
    "        \n",
    "        # To start the game  \n",
    "        self.game.init()\n",
    "        \n",
    "        # Define the action space and observation space\n",
    "        # low, high define minimum and maximum pixels \n",
    "        self.observation_space = Box(low=0, high=255, shape=(100,160,1), dtype=np.uint8) \n",
    "        self.action_space = Discrete(3)\n",
    "        \n",
    "        \n",
    "    # Defines how to take a step in the game env\n",
    "    def step(self, action):\n",
    "        # Action and rewards defined\n",
    "        actions = np.identity(3)\n",
    "        # 4 acts as a skip parameter\n",
    "        reward = self.game.make_action(actions[action], 4) \n",
    "        \n",
    "        #Explains what happens when the game starts\n",
    "        if self.game.get_state(): \n",
    "            # Grabs the next frame\n",
    "            state = self.game.get_state().screen_buffer\n",
    "            state = self.grayscale(state)\n",
    "            ammo = self.game.get_state().game_variables[0]\n",
    "            info = ammo\n",
    "        # Runs when the game is over\n",
    "        else: \n",
    "            state = np.zeros(self.observation_space.shape)\n",
    "            info = 0 \n",
    "        info = {\"info\":info}\n",
    "        done = self.game.is_episode_finished()\n",
    "        \n",
    "        return state, reward, done, info \n",
    "    \n",
    "    # Define how to render the game or environment \n",
    "    def render(): \n",
    "        # Handled by Doom env itself\n",
    "        pass\n",
    "    \n",
    "    \n",
    "    # Runs when the game restarts\n",
    "    def reset(self): \n",
    "        self.game.new_episode()\n",
    "        state = self.game.get_state().screen_buffer\n",
    "        return self.grayscale(state)\n",
    "    \n",
    "    \n",
    "    # Grayscaling and resizing the frame of the game \n",
    "    # Grayscale an image is a process of converting an image from other color space like RGB to different shades of gray\n",
    "    # This is done to reduce the models complexity, dimensionality reduction, allowing models to work effectively.\n",
    "    def grayscale(self, observation):\n",
    "        # cv2.cvtColor() converts BGR color to gray\n",
    "        gray = cv2.cvtColor(np.moveaxis(observation, 0, -1), cv2.COLOR_BGR2GRAY)\n",
    "        # cv2.resize() resizes the grayscale observation to (160,100)\n",
    "        # cv2.INTER_CUBIC interpolation method is used to preserve the quality of the grayscale observation\n",
    "        resize = cv2.resize(gray, (160,100), interpolation=cv2.INTER_CUBIC)\n",
    "        # reshape() is necessary as the expected format for this process is (height,width,channel)\n",
    "        state = np.reshape(resize, (100,160,1))\n",
    "        return state\n",
    "    \n",
    "    # Function to close down the game\n",
    "    def close(self): \n",
    "        self.game.close()"
   ]
  },
  {
   "cell_type": "code",
   "execution_count": 7,
   "id": "6f1f0ff7",
   "metadata": {},
   "outputs": [],
   "source": [
    "env = VizDoomGym(render=True)"
   ]
  },
  {
   "cell_type": "code",
   "execution_count": 8,
   "id": "92d619a0",
   "metadata": {},
   "outputs": [],
   "source": [
    "game.close()"
   ]
  },
  {
   "cell_type": "code",
   "execution_count": 9,
   "id": "57334fce",
   "metadata": {},
   "outputs": [],
   "source": [
    "state = env.reset()"
   ]
  },
  {
   "cell_type": "markdown",
   "id": "e8d0a24a-7dc6-42e2-9e69-7bea9481b123",
   "metadata": {
    "tags": []
   },
   "source": [
    "######## To check the game env\n",
    "from stable_baselines3.common import env_checker\n",
    "env_checker.check_env(env)"
   ]
  },
  {
   "cell_type": "markdown",
   "id": "17666d1d",
   "metadata": {
    "tags": []
   },
   "source": [
    "# To view the state"
   ]
  },
  {
   "cell_type": "code",
   "execution_count": 10,
   "id": "b9e8d9db",
   "metadata": {},
   "outputs": [
    {
     "data": {
      "text/plain": [
       "<matplotlib.image.AxesImage at 0x25d2f5f21d0>"
      ]
     },
     "execution_count": 10,
     "metadata": {},
     "output_type": "execute_result"
    },
    {
     "data": {
      "image/png": "[encoded data removed]",
      "text/plain": [
       "<Figure size 640x480 with 1 Axes>"
      ]
     },
     "metadata": {},
     "output_type": "display_data"
    }
   ],
   "source": [
    "import matplotlib.pyplot as plt\n",
    "plt.imshow(cv2.cvtColor(state, cv2.COLOR_BGR2RGB))"
   ]
  },
  {
   "cell_type": "markdown",
   "id": "87b4ca81",
   "metadata": {},
   "source": [
    "# Set up Callback\n",
    "- Manually saves the RL model"
   ]
  },
  {
   "cell_type": "code",
   "execution_count": 11,
   "id": "0f3ca7bf",
   "metadata": {},
   "outputs": [],
   "source": [
    "from stable_baselines3.common.callbacks import BaseCallback"
   ]
  },
  {
   "cell_type": "code",
   "execution_count": 12,
   "id": "cc07b89f",
   "metadata": {},
   "outputs": [],
   "source": [
    "class TrainAndLoggingCallback(BaseCallback):\n",
    "\n",
    "    def __init__(self, check_freq, save_path, verbose=1):\n",
    "        super(TrainAndLoggingCallback, self).__init__(verbose)\n",
    "        self.check_freq = check_freq\n",
    "        self.save_path = save_path\n",
    "\n",
    "    def _init_callback(self):\n",
    "        if self.save_path is not None:\n",
    "            os.makedirs(self.save_path, exist_ok=True)\n",
    "\n",
    "    def _on_step(self):\n",
    "        if self.n_calls % self.check_freq == 0:\n",
    "            model_path = os.path.join(self.save_path, 'best_model_{}'.format(self.n_calls))\n",
    "            self.model.save(model_path)\n",
    "\n",
    "        return True"
   ]
  },
  {
   "cell_type": "code",
   "execution_count": 13,
   "id": "16c9415e",
   "metadata": {},
   "outputs": [],
   "source": [
    "CHECKPOINT_DIR = './train/train_basic'\n",
    "LOG_DIR = './logs/log_basic'"
   ]
  },
  {
   "cell_type": "code",
   "execution_count": 14,
   "id": "079653ac",
   "metadata": {},
   "outputs": [],
   "source": [
    "# check_freq set to 10000 means, the instance of the model is saved after every 10000 steps\n",
    "callback = TrainAndLoggingCallback(check_freq=10000, save_path=CHECKPOINT_DIR)"
   ]
  },
  {
   "cell_type": "markdown",
   "id": "df039c0d",
   "metadata": {},
   "source": [
    "# Model training"
   ]
  },
  {
   "cell_type": "code",
   "execution_count": 15,
   "id": "ec693cbe",
   "metadata": {},
   "outputs": [],
   "source": [
    "from stable_baselines3 import PPO"
   ]
  },
  {
   "cell_type": "code",
   "execution_count": 16,
   "id": "f3291c2f",
   "metadata": {},
   "outputs": [],
   "source": [
    "# Non rendered environment\n",
    "env = VizDoomGym()"
   ]
  },
  {
   "cell_type": "code",
   "execution_count": 17,
   "id": "5e18926f",
   "metadata": {},
   "outputs": [
    {
     "name": "stdout",
     "output_type": "stream",
     "text": [
      "Using cpu device\n",
      "Wrapping the env with a `Monitor` wrapper\n",
      "Wrapping the env in a DummyVecEnv.\n",
      "Wrapping the env in a VecTransposeImage.\n"
     ]
    },
    {
     "name": "stderr",
     "output_type": "stream",
     "text": [
      "C:\\Users\\admin\\anaconda3\\lib\\site-packages\\stable_baselines3\\common\\vec_env\\patch_gym.py:49: UserWarning: You provided an OpenAI Gym environment. We strongly recommend transitioning to Gymnasium environments. Stable-Baselines3 is automatically wrapping your environments in a compatibility layer, which could potentially cause issues.\n",
      "  warnings.warn(\n"
     ]
    }
   ],
   "source": [
    "# CNNPolicy is a type of neural network - check out the doc\n",
    "# tensorboard_log -> logs information about the model\n",
    "# verbose -> provides info while training \n",
    "# learning rate refers to how fast the model should learn\n",
    "# max 300 actions per episode. \n",
    "# n_steps ???\n",
    "model = PPO('CnnPolicy', env, tensorboard_log=LOG_DIR, verbose=1, learning_rate=0.0001, n_steps=512)\n",
    "\n",
    "# low n_steps high clip_range is required"
   ]
  },
  {
   "cell_type": "code",
   "execution_count": null,
   "id": "69df761e-645c-471b-8bca-d6a1af433d08",
   "metadata": {
    "tags": []
   },
   "outputs": [
    {
     "name": "stdout",
     "output_type": "stream",
     "text": [
      "Logging to ./logs/log_basic\\PPO_4\n",
      "---------------------------------\n",
      "| rollout/           |          |\n",
      "|    ep_len_mean     | 34.2     |\n",
      "|    ep_rew_mean     | -93      |\n",
      "| time/              |          |\n",
      "|    fps             | 21       |\n",
      "|    iterations      | 1        |\n",
      "|    time_elapsed    | 23       |\n",
      "|    total_timesteps | 512      |\n",
      "---------------------------------\n",
      "------------------------------------------\n",
      "| rollout/                |              |\n",
      "|    ep_len_mean          | 36.5         |\n",
      "|    ep_rew_mean          | -112         |\n",
      "| time/                   |              |\n",
      "|    fps                  | 16           |\n",
      "|    iterations           | 2            |\n",
      "|    time_elapsed         | 61           |\n",
      "|    total_timesteps      | 1024         |\n",
      "| train/                  |              |\n",
      "|    approx_kl            | 0.0072085233 |\n",
      "|    clip_fraction        | 0.0965       |\n",
      "|    clip_range           | 0.2          |\n",
      "|    entropy_loss         | -1.09        |\n",
      "|    explained_variance   | 0.000211     |\n",
      "|    learning_rate        | 0.0001       |\n",
      "|    loss                 | 891          |\n",
      "|    n_updates            | 10           |\n",
      "|    policy_gradient_loss | 0.00186      |\n",
      "|    value_loss           | 2.65e+03     |\n",
      "------------------------------------------\n"
     ]
    }
   ],
   "source": [
    "model.learn(total_timesteps=100000, callback=callback)"
   ]
  },
  {
   "cell_type": "code",
   "execution_count": null,
   "id": "810233d9-4ccd-4677-bea1-328062eaa096",
   "metadata": {},
   "outputs": [],
   "source": [
    "#model.save('sample')"
   ]
  },
  {
   "cell_type": "code",
   "execution_count": null,
   "id": "6547048c-61f8-4d7c-a04e-babbdd8eea99",
   "metadata": {},
   "outputs": [],
   "source": [
    "#ViZDoomUnexpectedExitException occurs when the application output is closed\n",
    "# ep_len_mean means how many frames does the agent survive on average\n",
    "# ep_rew_mean - sum of total reward\n",
    "# fps - how fast the doom env is processing frames per second\n",
    "# time_elapsed - actual time duration\n",
    "# total_timesteps - how many time steps agent took\n",
    "# approx_kl - compares the performance of previous agent and current agent. \n",
    "# If there is a spike in approx_kl -> UNSTABLE LEARNING. Ideal rate should vary but not much\n",
    "# PPO clippiing is a process of handling the unstable learning bit. PPO clips the change.\n",
    "# You can try increasing the clip_range and gae_lambda hyperparam if there are huge spikes in approx_kl\n",
    "# check out entropy_loss\n",
    "# explained_variance - how well the model is able to explain the variance in value function. Should be positive\n",
    "# n_updates -> number of updates to actors, critic policy networks\n",
    "# policy_gradient_loss ->how well the agent takes action to increase its advantage. Should decrease. Flucates then decrease\n",
    "# value_loss ??\n",
    "# if graph for approx_kl and policy_gradient_loss value is almost 0 at the end. Its an indicator that the model isnt learning well"
   ]
  },
  {
   "cell_type": "code",
   "execution_count": null,
   "id": "81dfebf5-fce9-4c27-b1c1-7ab3ee7bfe09",
   "metadata": {
    "scrolled": true
   },
   "outputs": [],
   "source": [
    "%reload_ext tensorboard\n",
    "%tensorboard --logdir logs --host localhost\n",
    "#!kill 22588"
   ]
  },
  {
   "cell_type": "markdown",
   "id": "9456056b-fdf6-42c1-a0f2-65dffa24033a",
   "metadata": {},
   "source": [
    "# Testing"
   ]
  },
  {
   "cell_type": "code",
   "execution_count": null,
   "id": "bc41edf2-ebe1-4d49-aea3-944052920c4d",
   "metadata": {},
   "outputs": [],
   "source": [
    "# Importing evaluate_policy to test the agent\n",
    "from stable_baselines3.common.evaluation import evaluate_policy"
   ]
  },
  {
   "cell_type": "code",
   "execution_count": null,
   "id": "ffc1fc1f-4c9b-4393-99c0-e0b0b5cfc603",
   "metadata": {},
   "outputs": [],
   "source": [
    "# Loading from local disk\n",
    "model = PPO.load(r\"D:\\Doom game test\\Basic\\best_model_10000.zip\")"
   ]
  },
  {
   "cell_type": "code",
   "execution_count": null,
   "id": "3a660836",
   "metadata": {},
   "outputs": [],
   "source": [
    "# Creating a rendered environment\n",
    "env = VizDoomGym(render=True)"
   ]
  },
  {
   "cell_type": "code",
   "execution_count": null,
   "id": "79e1f98d",
   "metadata": {
    "tags": []
   },
   "outputs": [],
   "source": [
    "# Evaluate mean reward for 100 games\n",
    "mean_reward, _ = evaluate_policy(model, env, n_eval_episodes=100)"
   ]
  },
  {
   "cell_type": "code",
   "execution_count": null,
   "id": "de9de0a8",
   "metadata": {},
   "outputs": [],
   "source": [
    "mean_reward"
   ]
  },
  {
   "cell_type": "code",
   "execution_count": null,
   "id": "f9d5e4fb",
   "metadata": {},
   "outputs": [],
   "source": [
    "model.predict(obs)"
   ]
  },
  {
   "cell_type": "code",
   "execution_count": null,
   "id": "ec511917",
   "metadata": {},
   "outputs": [],
   "source": [
    "# Getting the mean reward using a for loop- alternate method for evaluate_policy() \n",
    "# playing 5 games\n",
    "for episode in range(5): \n",
    "    # storing game franes in obs variable\n",
    "    obs = env.reset()\n",
    "    # Showing the episode hasnt been finished yet\n",
    "    done = False\n",
    "    total_reward = 0\n",
    "    while not done: \n",
    "        # while the game episode is not over, the model will predict which move to make next\n",
    "        action, _ = model.predict(obs)\n",
    "        # Observation, reward, whether the episode is finished and more info\n",
    "        obs, reward, done, info = env.step(action)\n",
    "         # To take a break\n",
    "        # time.sleep(0.20)\n",
    "        # Calculating total reward\n",
    "        total_reward += reward\n",
    "    print('Total Reward for episode {} is {}'.format(total_reward, episode))\n",
    "    # Taking a break between 2 episodes\n",
    "    time.sleep(2)"
   ]
  },
  {
   "cell_type": "code",
   "execution_count": null,
   "id": "2b9b0d21-5d41-4b61-8960-4b220e91b0b8",
   "metadata": {},
   "outputs": [],
   "source": []
  }
 ],
 "metadata": {
  "kernelspec": {
   "display_name": "Python 3 (ipykernel)",
   "language": "python",
   "name": "python3"
  },
  "language_info": {
   "codemirror_mode": {
    "name": "ipython",
    "version": 3
   },
   "file_extension": ".py",
   "mimetype": "text/x-python",
   "name": "python",
   "nbconvert_exporter": "python",
   "pygments_lexer": "ipython3",
   "version": "3.10.9"
  },
  "widgets": {
   "application/vnd.jupyter.widget-state+json": {
    "state": {},
    "version_major": 2,
    "version_minor": 0
   }
  }
 },
 "nbformat": 4,
 "nbformat_minor": 5
}
